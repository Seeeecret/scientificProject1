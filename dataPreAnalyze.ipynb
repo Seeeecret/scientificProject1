{
 "cells": [
  {
   "cell_type": "code",
   "id": "initial_id",
   "metadata": {
    "collapsed": true,
    "ExecuteTime": {
     "end_time": "2024-08-29T09:43:09.137333Z",
     "start_time": "2024-08-29T09:40:47.210357Z"
    }
   },
   "source": [
    "import pandas as pd\n",
    "import numpy as np\n",
    "import matplotlib.pyplot as plt\n",
    "import seaborn as sns\n",
    "import scipy\n",
    "# 读取数据\n",
    "# 假设附件2为销售数据，附件3为批发价格数据\n",
    "sales_data = pd.read_excel('./附件2.xlsx')\n",
    "wholesale_data = pd.read_excel('./附件3.xlsx')"
   ],
   "outputs": [],
   "execution_count": 1
  },
  {
   "metadata": {
    "ExecuteTime": {
     "end_time": "2024-08-29T09:44:49.206404Z",
     "start_time": "2024-08-29T09:44:49.182562Z"
    }
   },
   "cell_type": "code",
   "source": [
    "# 数据预览\n",
    "(sales_data.head())"
   ],
   "id": "8e64b892908a10e7",
   "outputs": [
    {
     "data": {
      "text/plain": [
       "        销售日期        扫码销售时间             单品编码  销量(千克)  销售单价(元/千克) 销售类型 是否打折销售\n",
       "0 2020-07-01  09:15:07.924  102900005117056   0.396         7.6   销售      否\n",
       "1 2020-07-01  09:17:27.295  102900005115960   0.849         3.2   销售      否\n",
       "2 2020-07-01  09:17:33.905  102900005117056   0.409         7.6   销售      否\n",
       "3 2020-07-01  09:19:45.450  102900005115823   0.421        10.0   销售      否\n",
       "4 2020-07-01  09:20:23.686  102900005115908   0.539         8.0   销售      否"
      ],
      "text/html": [
       "<div>\n",
       "<style scoped>\n",
       "    .dataframe tbody tr th:only-of-type {\n",
       "        vertical-align: middle;\n",
       "    }\n",
       "\n",
       "    .dataframe tbody tr th {\n",
       "        vertical-align: top;\n",
       "    }\n",
       "\n",
       "    .dataframe thead th {\n",
       "        text-align: right;\n",
       "    }\n",
       "</style>\n",
       "<table border=\"1\" class=\"dataframe\">\n",
       "  <thead>\n",
       "    <tr style=\"text-align: right;\">\n",
       "      <th></th>\n",
       "      <th>销售日期</th>\n",
       "      <th>扫码销售时间</th>\n",
       "      <th>单品编码</th>\n",
       "      <th>销量(千克)</th>\n",
       "      <th>销售单价(元/千克)</th>\n",
       "      <th>销售类型</th>\n",
       "      <th>是否打折销售</th>\n",
       "    </tr>\n",
       "  </thead>\n",
       "  <tbody>\n",
       "    <tr>\n",
       "      <th>0</th>\n",
       "      <td>2020-07-01</td>\n",
       "      <td>09:15:07.924</td>\n",
       "      <td>102900005117056</td>\n",
       "      <td>0.396</td>\n",
       "      <td>7.6</td>\n",
       "      <td>销售</td>\n",
       "      <td>否</td>\n",
       "    </tr>\n",
       "    <tr>\n",
       "      <th>1</th>\n",
       "      <td>2020-07-01</td>\n",
       "      <td>09:17:27.295</td>\n",
       "      <td>102900005115960</td>\n",
       "      <td>0.849</td>\n",
       "      <td>3.2</td>\n",
       "      <td>销售</td>\n",
       "      <td>否</td>\n",
       "    </tr>\n",
       "    <tr>\n",
       "      <th>2</th>\n",
       "      <td>2020-07-01</td>\n",
       "      <td>09:17:33.905</td>\n",
       "      <td>102900005117056</td>\n",
       "      <td>0.409</td>\n",
       "      <td>7.6</td>\n",
       "      <td>销售</td>\n",
       "      <td>否</td>\n",
       "    </tr>\n",
       "    <tr>\n",
       "      <th>3</th>\n",
       "      <td>2020-07-01</td>\n",
       "      <td>09:19:45.450</td>\n",
       "      <td>102900005115823</td>\n",
       "      <td>0.421</td>\n",
       "      <td>10.0</td>\n",
       "      <td>销售</td>\n",
       "      <td>否</td>\n",
       "    </tr>\n",
       "    <tr>\n",
       "      <th>4</th>\n",
       "      <td>2020-07-01</td>\n",
       "      <td>09:20:23.686</td>\n",
       "      <td>102900005115908</td>\n",
       "      <td>0.539</td>\n",
       "      <td>8.0</td>\n",
       "      <td>销售</td>\n",
       "      <td>否</td>\n",
       "    </tr>\n",
       "  </tbody>\n",
       "</table>\n",
       "</div>"
      ]
     },
     "execution_count": 4,
     "metadata": {},
     "output_type": "execute_result"
    }
   ],
   "execution_count": 4
  },
  {
   "metadata": {
    "ExecuteTime": {
     "end_time": "2024-08-29T09:44:51.390183Z",
     "start_time": "2024-08-29T09:44:51.376415Z"
    }
   },
   "cell_type": "code",
   "source": [
    "\n",
    "(wholesale_data.head())"
   ],
   "id": "d4aa01a9c3bcd1e2",
   "outputs": [
    {
     "data": {
      "text/plain": [
       "          日期             单品编码  批发价格(元/千克)\n",
       "0 2020-07-01  102900005115762        3.88\n",
       "1 2020-07-01  102900005115779        6.72\n",
       "2 2020-07-01  102900005115786        3.19\n",
       "3 2020-07-01  102900005115793        9.24\n",
       "4 2020-07-01  102900005115823        7.03"
      ],
      "text/html": [
       "<div>\n",
       "<style scoped>\n",
       "    .dataframe tbody tr th:only-of-type {\n",
       "        vertical-align: middle;\n",
       "    }\n",
       "\n",
       "    .dataframe tbody tr th {\n",
       "        vertical-align: top;\n",
       "    }\n",
       "\n",
       "    .dataframe thead th {\n",
       "        text-align: right;\n",
       "    }\n",
       "</style>\n",
       "<table border=\"1\" class=\"dataframe\">\n",
       "  <thead>\n",
       "    <tr style=\"text-align: right;\">\n",
       "      <th></th>\n",
       "      <th>日期</th>\n",
       "      <th>单品编码</th>\n",
       "      <th>批发价格(元/千克)</th>\n",
       "    </tr>\n",
       "  </thead>\n",
       "  <tbody>\n",
       "    <tr>\n",
       "      <th>0</th>\n",
       "      <td>2020-07-01</td>\n",
       "      <td>102900005115762</td>\n",
       "      <td>3.88</td>\n",
       "    </tr>\n",
       "    <tr>\n",
       "      <th>1</th>\n",
       "      <td>2020-07-01</td>\n",
       "      <td>102900005115779</td>\n",
       "      <td>6.72</td>\n",
       "    </tr>\n",
       "    <tr>\n",
       "      <th>2</th>\n",
       "      <td>2020-07-01</td>\n",
       "      <td>102900005115786</td>\n",
       "      <td>3.19</td>\n",
       "    </tr>\n",
       "    <tr>\n",
       "      <th>3</th>\n",
       "      <td>2020-07-01</td>\n",
       "      <td>102900005115793</td>\n",
       "      <td>9.24</td>\n",
       "    </tr>\n",
       "    <tr>\n",
       "      <th>4</th>\n",
       "      <td>2020-07-01</td>\n",
       "      <td>102900005115823</td>\n",
       "      <td>7.03</td>\n",
       "    </tr>\n",
       "  </tbody>\n",
       "</table>\n",
       "</div>"
      ]
     },
     "execution_count": 5,
     "metadata": {},
     "output_type": "execute_result"
    }
   ],
   "execution_count": 5
  },
  {
   "metadata": {
    "ExecuteTime": {
     "end_time": "2024-08-29T09:45:03.524941Z",
     "start_time": "2024-08-29T09:45:03.412284Z"
    }
   },
   "cell_type": "code",
   "source": [
    "\n",
    "# 数据基本统计信息\n",
    "(sales_data.describe())"
   ],
   "id": "ccb3c2d94dbe5b7d",
   "outputs": [
    {
     "data": {
      "text/plain": [
       "                                销售日期          单品编码         销量(千克)  \\\n",
       "count                         878503  8.785030e+05  878503.000000   \n",
       "mean   2021-11-20 20:11:55.407914752  1.030313e+14       0.536112   \n",
       "min              2020-07-01 00:00:00  1.029000e+14      -9.082000   \n",
       "25%              2021-02-06 00:00:00  1.029000e+14       0.290000   \n",
       "50%              2021-10-11 00:00:00  1.029000e+14       0.435000   \n",
       "75%              2022-09-10 00:00:00  1.029000e+14       0.742000   \n",
       "max              2023-06-30 00:00:00  1.069740e+14     160.000000   \n",
       "std                              NaN  7.174368e+11       0.400087   \n",
       "\n",
       "          销售单价(元/千克)  \n",
       "count  878503.000000  \n",
       "mean        8.917144  \n",
       "min         0.100000  \n",
       "25%         4.900000  \n",
       "50%         7.900000  \n",
       "75%        10.800000  \n",
       "max       119.900000  \n",
       "std         6.311265  "
      ],
      "text/html": [
       "<div>\n",
       "<style scoped>\n",
       "    .dataframe tbody tr th:only-of-type {\n",
       "        vertical-align: middle;\n",
       "    }\n",
       "\n",
       "    .dataframe tbody tr th {\n",
       "        vertical-align: top;\n",
       "    }\n",
       "\n",
       "    .dataframe thead th {\n",
       "        text-align: right;\n",
       "    }\n",
       "</style>\n",
       "<table border=\"1\" class=\"dataframe\">\n",
       "  <thead>\n",
       "    <tr style=\"text-align: right;\">\n",
       "      <th></th>\n",
       "      <th>销售日期</th>\n",
       "      <th>单品编码</th>\n",
       "      <th>销量(千克)</th>\n",
       "      <th>销售单价(元/千克)</th>\n",
       "    </tr>\n",
       "  </thead>\n",
       "  <tbody>\n",
       "    <tr>\n",
       "      <th>count</th>\n",
       "      <td>878503</td>\n",
       "      <td>8.785030e+05</td>\n",
       "      <td>878503.000000</td>\n",
       "      <td>878503.000000</td>\n",
       "    </tr>\n",
       "    <tr>\n",
       "      <th>mean</th>\n",
       "      <td>2021-11-20 20:11:55.407914752</td>\n",
       "      <td>1.030313e+14</td>\n",
       "      <td>0.536112</td>\n",
       "      <td>8.917144</td>\n",
       "    </tr>\n",
       "    <tr>\n",
       "      <th>min</th>\n",
       "      <td>2020-07-01 00:00:00</td>\n",
       "      <td>1.029000e+14</td>\n",
       "      <td>-9.082000</td>\n",
       "      <td>0.100000</td>\n",
       "    </tr>\n",
       "    <tr>\n",
       "      <th>25%</th>\n",
       "      <td>2021-02-06 00:00:00</td>\n",
       "      <td>1.029000e+14</td>\n",
       "      <td>0.290000</td>\n",
       "      <td>4.900000</td>\n",
       "    </tr>\n",
       "    <tr>\n",
       "      <th>50%</th>\n",
       "      <td>2021-10-11 00:00:00</td>\n",
       "      <td>1.029000e+14</td>\n",
       "      <td>0.435000</td>\n",
       "      <td>7.900000</td>\n",
       "    </tr>\n",
       "    <tr>\n",
       "      <th>75%</th>\n",
       "      <td>2022-09-10 00:00:00</td>\n",
       "      <td>1.029000e+14</td>\n",
       "      <td>0.742000</td>\n",
       "      <td>10.800000</td>\n",
       "    </tr>\n",
       "    <tr>\n",
       "      <th>max</th>\n",
       "      <td>2023-06-30 00:00:00</td>\n",
       "      <td>1.069740e+14</td>\n",
       "      <td>160.000000</td>\n",
       "      <td>119.900000</td>\n",
       "    </tr>\n",
       "    <tr>\n",
       "      <th>std</th>\n",
       "      <td>NaN</td>\n",
       "      <td>7.174368e+11</td>\n",
       "      <td>0.400087</td>\n",
       "      <td>6.311265</td>\n",
       "    </tr>\n",
       "  </tbody>\n",
       "</table>\n",
       "</div>"
      ]
     },
     "execution_count": 6,
     "metadata": {},
     "output_type": "execute_result"
    }
   ],
   "execution_count": 6
  },
  {
   "metadata": {
    "ExecuteTime": {
     "end_time": "2024-08-29T09:45:06.056353Z",
     "start_time": "2024-08-29T09:45:06.034541Z"
    }
   },
   "cell_type": "code",
   "source": [
    "\n",
    "(wholesale_data.describe())"
   ],
   "id": "9f11d4e251b1069c",
   "outputs": [
    {
     "data": {
      "text/plain": [
       "                                  日期          单品编码    批发价格(元/千克)\n",
       "count                          55982  5.598200e+04  55982.000000\n",
       "mean   2022-01-11 06:32:26.940088064  1.030449e+14      5.962620\n",
       "min              2020-07-01 00:00:00  1.029000e+14      0.010000\n",
       "25%              2021-05-05 06:00:00  1.029000e+14      2.810000\n",
       "50%              2022-01-22 00:00:00  1.029000e+14      4.630000\n",
       "75%              2022-09-12 00:00:00  1.029000e+14      7.570000\n",
       "max              2023-06-30 00:00:00  1.069740e+14    141.000000\n",
       "std                              NaN  7.527927e+11      5.067802"
      ],
      "text/html": [
       "<div>\n",
       "<style scoped>\n",
       "    .dataframe tbody tr th:only-of-type {\n",
       "        vertical-align: middle;\n",
       "    }\n",
       "\n",
       "    .dataframe tbody tr th {\n",
       "        vertical-align: top;\n",
       "    }\n",
       "\n",
       "    .dataframe thead th {\n",
       "        text-align: right;\n",
       "    }\n",
       "</style>\n",
       "<table border=\"1\" class=\"dataframe\">\n",
       "  <thead>\n",
       "    <tr style=\"text-align: right;\">\n",
       "      <th></th>\n",
       "      <th>日期</th>\n",
       "      <th>单品编码</th>\n",
       "      <th>批发价格(元/千克)</th>\n",
       "    </tr>\n",
       "  </thead>\n",
       "  <tbody>\n",
       "    <tr>\n",
       "      <th>count</th>\n",
       "      <td>55982</td>\n",
       "      <td>5.598200e+04</td>\n",
       "      <td>55982.000000</td>\n",
       "    </tr>\n",
       "    <tr>\n",
       "      <th>mean</th>\n",
       "      <td>2022-01-11 06:32:26.940088064</td>\n",
       "      <td>1.030449e+14</td>\n",
       "      <td>5.962620</td>\n",
       "    </tr>\n",
       "    <tr>\n",
       "      <th>min</th>\n",
       "      <td>2020-07-01 00:00:00</td>\n",
       "      <td>1.029000e+14</td>\n",
       "      <td>0.010000</td>\n",
       "    </tr>\n",
       "    <tr>\n",
       "      <th>25%</th>\n",
       "      <td>2021-05-05 06:00:00</td>\n",
       "      <td>1.029000e+14</td>\n",
       "      <td>2.810000</td>\n",
       "    </tr>\n",
       "    <tr>\n",
       "      <th>50%</th>\n",
       "      <td>2022-01-22 00:00:00</td>\n",
       "      <td>1.029000e+14</td>\n",
       "      <td>4.630000</td>\n",
       "    </tr>\n",
       "    <tr>\n",
       "      <th>75%</th>\n",
       "      <td>2022-09-12 00:00:00</td>\n",
       "      <td>1.029000e+14</td>\n",
       "      <td>7.570000</td>\n",
       "    </tr>\n",
       "    <tr>\n",
       "      <th>max</th>\n",
       "      <td>2023-06-30 00:00:00</td>\n",
       "      <td>1.069740e+14</td>\n",
       "      <td>141.000000</td>\n",
       "    </tr>\n",
       "    <tr>\n",
       "      <th>std</th>\n",
       "      <td>NaN</td>\n",
       "      <td>7.527927e+11</td>\n",
       "      <td>5.067802</td>\n",
       "    </tr>\n",
       "  </tbody>\n",
       "</table>\n",
       "</div>"
      ]
     },
     "execution_count": 7,
     "metadata": {},
     "output_type": "execute_result"
    }
   ],
   "execution_count": 7
  },
  {
   "metadata": {
    "ExecuteTime": {
     "end_time": "2024-08-29T09:45:51.605531Z",
     "start_time": "2024-08-29T09:45:51.525380Z"
    }
   },
   "cell_type": "code",
   "source": [
    "\n",
    "# 数据缺失值检查\n",
    "(sales_data.isnull().sum())"
   ],
   "id": "26a37c3b0d066590",
   "outputs": [
    {
     "data": {
      "text/plain": [
       "销售日期          0\n",
       "扫码销售时间        0\n",
       "单品编码          0\n",
       "销量(千克)        0\n",
       "销售单价(元/千克)    0\n",
       "销售类型          0\n",
       "是否打折销售        0\n",
       "dtype: int64"
      ]
     },
     "execution_count": 8,
     "metadata": {},
     "output_type": "execute_result"
    }
   ],
   "execution_count": 8
  },
  {
   "metadata": {
    "ExecuteTime": {
     "end_time": "2024-08-29T09:45:57.157187Z",
     "start_time": "2024-08-29T09:45:57.134714Z"
    }
   },
   "cell_type": "code",
   "source": [
    "\n",
    "(wholesale_data.isnull().sum())"
   ],
   "id": "6f1f64125dac7541",
   "outputs": [
    {
     "data": {
      "text/plain": [
       "日期            0\n",
       "单品编码          0\n",
       "批发价格(元/千克)    0\n",
       "dtype: int64"
      ]
     },
     "execution_count": 9,
     "metadata": {},
     "output_type": "execute_result"
    }
   ],
   "execution_count": 9
  },
  {
   "metadata": {},
   "cell_type": "code",
   "outputs": [],
   "execution_count": null,
   "source": [
    "# 销售数据按日期聚合，查看总销售量的时间趋势\n",
    "sales_data['日期'] = pd.to_datetime(sales_data['日期'])  # 将日期字段转换为日期格式\n",
    "daily_sales = sales_data.groupby('日期')['销售量'].sum().reset_index()\n"
   ],
   "id": "5a8f8e3469390039"
  },
  {
   "metadata": {
    "ExecuteTime": {
     "end_time": "2024-08-29T09:03:55.544733Z",
     "start_time": "2024-08-29T09:03:55.526582Z"
    }
   },
   "cell_type": "code",
   "source": [
    "import scipy\n",
    "print(scipy.__version__)\n"
   ],
   "id": "2964a3edd069cbd",
   "outputs": [
    {
     "name": "stdout",
     "output_type": "stream",
     "text": [
      "1.10.1\n"
     ]
    }
   ],
   "execution_count": 11
  }
 ],
 "metadata": {
  "kernelspec": {
   "display_name": "Python 3",
   "language": "python",
   "name": "python3"
  },
  "language_info": {
   "codemirror_mode": {
    "name": "ipython",
    "version": 2
   },
   "file_extension": ".py",
   "mimetype": "text/x-python",
   "name": "python",
   "nbconvert_exporter": "python",
   "pygments_lexer": "ipython2",
   "version": "2.7.6"
  }
 },
 "nbformat": 4,
 "nbformat_minor": 5
}
